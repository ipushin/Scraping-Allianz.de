{
 "cells": [
  {
   "cell_type": "code",
   "execution_count": null,
   "metadata": {},
   "outputs": [],
   "source": [
    "import pandas as pd\n",
    "import numpy as np\n",
    "import warnings\n",
    "warnings.filterwarnings('ignore')\n",
    "import re\n",
    "pd.set_option('display.max_columns', None)\n",
    "pd.set_option('display.max_rows', None)\n",
    "import re\n",
    "from random import randint\n",
    "from time import sleep\n",
    "from selenium import webdriver\n",
    "from selenium.webdriver.common.keys import Keys\n",
    "from selenium.webdriver.support.ui import WebDriverWait\n",
    "from selenium.webdriver.common.by import By\n",
    "from selenium.webdriver.support import expected_conditions as EC\n",
    "from selenium.webdriver.common.action_chains import ActionChains\n",
    "import pickle\n",
    "from itertools import product\n",
    "import requests\n",
    "import os\n",
    "import random\n",
    "from fake_useragent import UserAgent\n",
    "from itertools import cycle"
   ]
  },
  {
   "cell_type": "code",
   "execution_count": null,
   "metadata": {},
   "outputs": [],
   "source": [
    "# Getting proxies\n",
    "proxies = pd.read_csv('/Users/macbook/Downloads/Webshare 100 proxies.txt')\n",
    "print('Number of proxies:', len(proxies))\n",
    "proxies = proxies['Proxy'].values\n",
    "proxy_pool = cycle(proxies)"
   ]
  },
  {
   "cell_type": "code",
   "execution_count": null,
   "metadata": {},
   "outputs": [],
   "source": [
    "def start_browsing():\n",
    "    \n",
    "    ua = UserAgent()\n",
    "    user_agent = ua.random\n",
    "    proxy = next(proxy_pool)\n",
    "    \n",
    "    webdriver.DesiredCapabilities.CHROME['proxy'] = {\n",
    "        \"httpProxy\": proxy,\n",
    "        \"ftpProxy\": proxy,\n",
    "        \"sslProxy\": proxy,\n",
    "        \"proxyType\": \"MANUAL\"\n",
    "    }\n",
    "    chrome_options = webdriver.ChromeOptions()\n",
    "    chrome_options.headless=False\n",
    "    chrome_options.add_argument('--user-agent=%s' % user_agent)\n",
    "    \n",
    "    chrome_options.add_argument(\"--disable-notifications\")\n",
    "    chrome_options.add_experimental_option(\"prefs\", {\"profile.default_content_settings.cookies\": 2})\n",
    "    path = '/Users/macbook/Downloads/Chrome Driver'\n",
    "    browser =  webdriver.Chrome(os.path.join(path, 'chromedriver'),chrome_options=chrome_options)\n",
    "    browser.maximize_window()\n",
    "    \n",
    "    \n",
    "    url = 'https://www.allianz.de/gesundheit/tierkrankenversicherung/rechner/#/'\n",
    "    browser.get(url)\n",
    "    \n",
    "\n",
    "    # Cookies\n",
    "    path = '/html/body/div[1]/div[2]/div[4]/div[2]/div/button'\n",
    "    element = WebDriverWait(browser, 20).until(EC.element_to_be_clickable((By.XPATH, path)))\n",
    "    element.click()\n",
    "\n",
    "    # Input ZIP\n",
    "    path = '//*[@formcontrolname=\"zip\"]'\n",
    "    element = WebDriverWait(browser, 20).until(EC.element_to_be_clickable((By.XPATH, path)))\n",
    "    element.clear()\n",
    "    sleep(0.3)\n",
    "    browser.find_element_by_xpath(path).send_keys('99998')\n",
    "    browser.find_element_by_xpath(path).send_keys(Keys.ENTER)\n",
    "\n",
    "\n",
    "    sleep(0.3)\n",
    "    # Street\n",
    "    path = '//*[@formcontrolname=\"street\"]'\n",
    "    browser.find_element_by_xpath(path).click()\n",
    "    browser.find_element_by_xpath(path).send_keys(Keys.ARROW_DOWN)\n",
    "    browser.find_element_by_xpath(path).send_keys(Keys.ENTER)\n",
    "\n",
    "\n",
    "    sleep(0.3)\n",
    "    # House number\n",
    "    path = '//*[@formcontrolname=\"streetNumber\"]'\n",
    "    browser.find_element_by_xpath(path).send_keys('1')\n",
    "    browser.find_element_by_xpath(path).send_keys(Keys.ENTER)\n",
    "\n",
    "    sleep(0.7)  \n",
    "    # Input birthdate\n",
    "    path = '//*[@formcontrolname=\"birthdate\"]'\n",
    "    browser.find_element_by_xpath(path).send_keys('01.12.1990')\n",
    "    sleep(0.7) \n",
    "\n",
    "    # Choose pet\n",
    "    path = '//*[@formcontrolname=\"animalCategory\"]'\n",
    "    browser.find_element_by_xpath(path).click()\n",
    "    sleep(0.4)\n",
    "    browser.find_element_by_xpath(path).send_keys(Keys.ARROW_DOWN)\n",
    "    sleep(0.2)\n",
    "    browser.find_element_by_xpath(path).send_keys(Keys.ENTER)\n",
    "    \n",
    "    if browser.find_element_by_xpath(path).text == 'Meine Katze':\n",
    "        pass\n",
    "    else:\n",
    "        print('Error when choosing an animal')\n",
    "        browser.quit()\n",
    "\n",
    "    sleep(0.7) \n",
    "    # Birthdate\n",
    "    path = '//*[@formcontrolname=\"animalBirthDate\"]'\n",
    "    try:\n",
    "        browser.find_element_by_xpath(path).send_keys('01.12.2020')\n",
    "    except:\n",
    "        pass\n",
    "    sleep(0.2)\n",
    "    browser.find_element_by_xpath(path).send_keys('01.12.2020')\n",
    "    sleep(0.3)\n",
    "    browser.find_element_by_xpath(path).send_keys(Keys.ESCAPE)\n",
    "    sleep(0.3)\n",
    "    browser.find_element_by_xpath(path).send_keys(Keys.ENTER)\n",
    "\n",
    "    sleep(0.5)\n",
    "    # Wurde Ihr Tier kastriert oder sterilisiert?\n",
    "    # Choosing 'Ja'\n",
    "    path = '//*[@formcontrolname=\"sterilized\"]//nx-radio[1]'\n",
    "    browser.find_element_by_xpath(path).click()\n",
    "\n",
    "    sleep(0.5)\n",
    "    # Wie wird Ihre Katze gehalten?\n",
    "    # Choosing \"ausschließlich in der Wohnung\"\n",
    "    path = '//*[@formcontrolname=\"catHousingType\"]//nx-radio[1]'\n",
    "    browser.find_element_by_xpath(path).click()\n",
    "\n",
    "    sleep(0.5)\n",
    "    # War oder ist Ihr Tier wegen Krankheiten, Fehlentwicklungen oder Unfällen beim Tierarzt in Behandlung?\n",
    "    # Choosing \"Nein\"\n",
    "    path = '//*[@formcontrolname=\"preExistingDiagnosis\"]//nx-radio[2]'\n",
    "    browser.find_element_by_xpath(path).click()\n",
    "    \n",
    "    return browser"
   ]
  },
  {
   "cell_type": "code",
   "execution_count": null,
   "metadata": {},
   "outputs": [],
   "source": [
    "def get_price(raw_price, clean=True):\n",
    "    if clean:\n",
    "        raw_price = re.findall(r'(?<=\\().+(?=\\))', raw_price)[0]\n",
    "    price = re.sub(r'\\,', '.', raw_price)\n",
    "    price = re.sub(r'[^\\.\\d]', '', price)\n",
    "    price = float(price)\n",
    "    return price"
   ]
  },
  {
   "cell_type": "markdown",
   "metadata": {},
   "source": [
    "### Getting Prices for every race"
   ]
  },
  {
   "cell_type": "code",
   "execution_count": null,
   "metadata": {},
   "outputs": [],
   "source": [
    "browser = start_browsing()\n",
    "actions = ActionChains(browser)"
   ]
  },
  {
   "cell_type": "code",
   "execution_count": null,
   "metadata": {},
   "outputs": [],
   "source": [
    "race_prices = pd.DataFrame(columns=['Race'])"
   ]
  },
  {
   "cell_type": "code",
   "execution_count": null,
   "metadata": {},
   "outputs": [],
   "source": [
    "races_dict = {}\n",
    "for i in range(1,160):\n",
    "\n",
    "    path = '//*[@formcontrolname=\"animalRace\"]'\n",
    "    element = WebDriverWait(browser, 10).until(EC.visibility_of_element_located((By.XPATH, path)))\n",
    "    element.click()\n",
    "\n",
    "    sleep(0.2)\n",
    "    path = '/html/body/div[5]/div[10]/div/div/div[2]/nx-dropdown-item[{}]'.format(i)\n",
    "    browser.find_element_by_xpath(path).click()\n",
    "\n",
    "    sleep(0.2)\n",
    "    path = '//*[@formcontrolname=\"animalRace\"]'\n",
    "    race = browser.find_element_by_xpath(path).text\n",
    "    \n",
    "    races_dict[race] = i"
   ]
  },
  {
   "cell_type": "code",
   "execution_count": null,
   "metadata": {},
   "outputs": [],
   "source": [
    "missed_races = [x for x in races_dict.keys() if x not in race_prices['Race'].unique()]\n",
    "missed_races_idx = [races_dict[x] for x in missed_races]"
   ]
  },
  {
   "cell_type": "code",
   "execution_count": null,
   "metadata": {
    "scrolled": true
   },
   "outputs": [],
   "source": [
    "for i in missed_races_idx:\n",
    "\n",
    "    print('\\n#', i)\n",
    "\n",
    "    '''\n",
    "    Selecting race\n",
    "    '''\n",
    "\n",
    "    try:\n",
    "\n",
    "        for _ in range(1):\n",
    "            actions.send_keys(Keys.PAGE_UP).perform()\n",
    "\n",
    "        path = '//*[@formcontrolname=\"animalRace\"]'\n",
    "        element = WebDriverWait(browser, 10).until(EC.visibility_of_element_located((By.XPATH, path)))\n",
    "        element.click()\n",
    "\n",
    "        sleep(0.2)\n",
    "        path = '/html/body/div[5]/div[10]/div/div/div[2]/nx-dropdown-item[{}]'.format(i)\n",
    "        browser.find_element_by_xpath(path).click()\n",
    "\n",
    "        sleep(0.2)\n",
    "        path = '//*[@formcontrolname=\"animalRace\"]'\n",
    "        race = browser.find_element_by_xpath(path).text\n",
    "\n",
    "        if race in race_prices['Race'].unique():\n",
    "            continue\n",
    "\n",
    "        print(race)\n",
    "\n",
    "        # Getting Tarif data\n",
    "        path = '/html/body/div[3]/div/div[4]/div/div/div/div/div/app-root/div/page-data/div/div[2]/form/div/div/div[5]/button'\n",
    "        browser.find_element_by_xpath(path).click()\n",
    "\n",
    "    except:\n",
    "        print('UNKNOWN ERROR')\n",
    "        continue\n",
    "\n",
    "\n",
    "    '''\n",
    "    Getting prices\n",
    "    '''\n",
    "\n",
    "    try:\n",
    "\n",
    "        # Waiting until the price is presented\n",
    "\n",
    "        path = '//*[@id=\"product_TM001\"]'\n",
    "        element = WebDriverWait(browser, 30).until(EC.visibility_of_element_located((By.XPATH, path)))\n",
    "\n",
    "        path = '/html/body/div[3]/div/div[4]/div/div/div/div/div/app-root/div/page-offer/div/div[2]/div/module-table/div/nx-comparison-table/div/nx-comparison-table-flex-row[1]/div[2]'\n",
    "        header_price = browser.find_element_by_xpath(path).text\n",
    "\n",
    "        basic, smart, komfort, premium = [header_price.split('\\n')[i] for i in [1,5,9,13]]\n",
    "\n",
    "\n",
    "        page_df = pd.DataFrame({'Basic':basic, \n",
    "                                'Smart':smart,\n",
    "                                'Komfort':komfort,\n",
    "                                'Premium':premium}, index=[0])\n",
    "\n",
    "        page_df['Race'] = race\n",
    "        race_prices = pd.concat([race_prices, page_df], ignore_index=True)\n",
    "        print('GOT DATA')\n",
    "\n",
    "    except:\n",
    "        print('PAGE ERROR')\n",
    "        browser.back()\n",
    "        continue\n",
    "\n",
    "\n",
    "    \"\"\"\n",
    "    Back to input data\n",
    "    \"\"\"\n",
    "    browser.back()\n",
    "\n",
    "    # Save the dataset\n",
    "    #race_prices.to_csv('ALIANZ_RACE_DATA_STEP2.csv')"
   ]
  },
  {
   "cell_type": "markdown",
   "metadata": {},
   "source": [
    "### Getting race price groups"
   ]
  },
  {
   "cell_type": "code",
   "execution_count": null,
   "metadata": {},
   "outputs": [],
   "source": [
    "for col in race_prices.columns[:-2]:\n",
    "    race_prices[col] = race_prices[col].str.replace(r'\\,','.').str.replace(r'[^\\.\\d]','')\n",
    "    race_prices[col] = race_prices[col].astype(float)"
   ]
  },
  {
   "cell_type": "code",
   "execution_count": null,
   "metadata": {},
   "outputs": [],
   "source": [
    "race_prices['Group'] = ''\n",
    "for col in race_prices.columns[:-2]:\n",
    "    race_prices['Group'] = race_prices['Group'] + '-' + race_prices[col].astype(str)"
   ]
  },
  {
   "cell_type": "code",
   "execution_count": null,
   "metadata": {},
   "outputs": [],
   "source": [
    "from sklearn.preprocessing import LabelEncoder\n",
    "enc = LabelEncoder()\n",
    "enc.fit(race_prices['Group'])\n",
    "race_prices['Group Num'] = enc.transform(race_prices['Group'])\n",
    "race_prices = race_prices.drop(columns='Group')"
   ]
  },
  {
   "cell_type": "code",
   "execution_count": null,
   "metadata": {},
   "outputs": [],
   "source": [
    "race_prices['Group Num'].nunique()"
   ]
  },
  {
   "cell_type": "code",
   "execution_count": null,
   "metadata": {},
   "outputs": [],
   "source": [
    "#race_prices.to_csv('ALIANZ_RACE_DATA_STEP2.csv')"
   ]
  },
  {
   "cell_type": "markdown",
   "metadata": {},
   "source": [
    "### Getting price groups for zip codes"
   ]
  },
  {
   "cell_type": "code",
   "execution_count": null,
   "metadata": {},
   "outputs": [],
   "source": [
    "zip_prices = pd.read_csv('ALIANZ_ZIP_DATA_STEP1.csv', index_col=[0])\n",
    "zip_prices['Basic'].nunique()"
   ]
  },
  {
   "cell_type": "code",
   "execution_count": null,
   "metadata": {},
   "outputs": [],
   "source": [
    "for col in zip_prices.columns[1:]:\n",
    "    zip_prices[col] = zip_prices[col].str.replace(r'\\,','.').str.replace(r'[^\\.\\d]','')\n",
    "    zip_prices[col] = zip_prices[col].astype(float)"
   ]
  },
  {
   "cell_type": "code",
   "execution_count": null,
   "metadata": {},
   "outputs": [],
   "source": [
    "zip_prices['Group'] = ''\n",
    "for col in zip_prices.columns[1:]:\n",
    "    zip_prices['Group'] = zip_prices['Group'] + '-' + zip_prices[col].astype(str)"
   ]
  },
  {
   "cell_type": "code",
   "execution_count": null,
   "metadata": {},
   "outputs": [],
   "source": [
    "from sklearn.preprocessing import LabelEncoder\n",
    "enc = LabelEncoder()\n",
    "enc.fit(zip_prices['Group'])\n",
    "zip_prices['Group Num'] = enc.transform(zip_prices['Group'])\n",
    "zip_prices = zip_prices.drop(columns='Group')"
   ]
  },
  {
   "cell_type": "code",
   "execution_count": null,
   "metadata": {},
   "outputs": [],
   "source": [
    "group_zips = zip_prices.drop_duplicates(['Group Num'])['ZIP'].values\n",
    "zip_prices['Group Num'].nunique()"
   ]
  }
 ],
 "metadata": {
  "kernelspec": {
   "display_name": "Python 3",
   "language": "python",
   "name": "python3"
  },
  "language_info": {
   "codemirror_mode": {
    "name": "ipython",
    "version": 3
   },
   "file_extension": ".py",
   "mimetype": "text/x-python",
   "name": "python",
   "nbconvert_exporter": "python",
   "pygments_lexer": "ipython3",
   "version": "3.7.5"
  }
 },
 "nbformat": 4,
 "nbformat_minor": 4
}
